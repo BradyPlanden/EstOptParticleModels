{
 "cells": [
  {
   "cell_type": "markdown",
   "metadata": {},
   "source": [
    "# LNMO - Excerise"
   ]
  },
  {
   "cell_type": "code",
   "execution_count": 2,
   "metadata": {},
   "outputs": [
    {
     "name": "stdout",
     "output_type": "stream",
     "text": [
      "\n",
      "\u001b[1m[\u001b[0m\u001b[34;49mnotice\u001b[0m\u001b[1;39;49m]\u001b[0m\u001b[39;49m A new release of pip is available: \u001b[0m\u001b[31;49m23.0\u001b[0m\u001b[39;49m -> \u001b[0m\u001b[32;49m23.0.1\u001b[0m\n",
      "\u001b[1m[\u001b[0m\u001b[34;49mnotice\u001b[0m\u001b[1;39;49m]\u001b[0m\u001b[39;49m To update, run: \u001b[0m\u001b[32;49mpip install --upgrade pip\u001b[0m\n",
      "Note: you may need to restart the kernel to use updated packages.\n",
      "\n",
      "\u001b[1m[\u001b[0m\u001b[34;49mnotice\u001b[0m\u001b[1;39;49m]\u001b[0m\u001b[39;49m A new release of pip is available: \u001b[0m\u001b[31;49m23.0\u001b[0m\u001b[39;49m -> \u001b[0m\u001b[32;49m23.0.1\u001b[0m\n",
      "\u001b[1m[\u001b[0m\u001b[34;49mnotice\u001b[0m\u001b[1;39;49m]\u001b[0m\u001b[39;49m To update, run: \u001b[0m\u001b[32;49mpip install --upgrade pip\u001b[0m\n",
      "Note: you may need to restart the kernel to use updated packages.\n"
     ]
    }
   ],
   "source": [
    "%pip install pybamm -q   # install PyBaMM if it is not installed\n",
    "%pip install pyarrow -q\n",
    "import pybamm\n",
    "import os\n",
    "os.chdir(pybamm.__path__[0]+'/..')"
   ]
  },
  {
   "cell_type": "code",
   "execution_count": 3,
   "metadata": {},
   "outputs": [],
   "source": [
    "import numpy as np\n",
    "import pandas as pd\n",
    "import matplotlib.pyplot as plt\n",
    "import math"
   ]
  },
  {
   "cell_type": "code",
   "execution_count": 4,
   "metadata": {},
   "outputs": [],
   "source": [
    "ocp_neg = pd.read_parquet(\"/Users/bradyplanden/Documents/Git/2023-oslo-workshop/lnmo-exercise/OCV_Graphite.parquet\")\n",
    "ocp_pos = pd.read_parquet(\"/Users/bradyplanden/Documents/Git/2023-oslo-workshop/lnmo-exercise/LNMO_theta_OCV_singleSweep.parquet\")"
   ]
  },
  {
   "cell_type": "code",
   "execution_count": 5,
   "metadata": {},
   "outputs": [
    {
     "data": {
      "image/png": "[encoded data removed]",
      "text/plain": [
       "<Figure size 640x480 with 1 Axes>"
      ]
     },
     "metadata": {},
     "output_type": "display_data"
    }
   ],
   "source": [
    "plt.plot(ocp_neg[\"theta\"],ocp_neg[\"OCV\"])\n",
    "plt.plot(ocp_pos[\"theta\"],ocp_pos[\"OCV\"])\n",
    "plt.show()"
   ]
  },
  {
   "cell_type": "code",
   "execution_count": 17,
   "metadata": {},
   "outputs": [
    {
     "name": "stdout",
     "output_type": "stream",
     "text": [
      "[1.09336057 1.04803059 1.0137273  0.98064725 0.94021276 0.90345549\n",
      " 0.86791649 0.83483146 0.79929495 0.76130696 0.71718279 0.68532101\n",
      " 0.64487406 0.60934004 0.56521587 0.52968435 0.49292459 0.45493909\n",
      " 0.4243155  0.39124542 0.34718354 0.32640823 0.30565784 0.30326864\n",
      " 0.29843295 0.2972944  0.2972944  0.2972944  0.27912255 0.27306859\n",
      " 0.2682304  0.25359376 0.22915618 0.20718254 0.19009193 0.17054735\n",
      " 0.14489399 0.1277984  0.10948205 0.09241635 0.08390344 0.07540796\n",
      " 0.07540796 0.07540796 0.07540796 0.07540796 0.07540796 0.05984952\n",
      " 0.05132913 0.0232243  0.00612123]\n"
     ]
    }
   ],
   "source": [
    "arr_neg = np.array(ocp_neg[\"OCV\"])\n",
    "print(arr_neg)"
   ]
  },
  {
   "cell_type": "code",
   "execution_count": 13,
   "metadata": {},
   "outputs": [],
   "source": [
    "def graphite_OCP(theta):\n",
    "    return pybamm.Interpolant(np.array(ocp_neg[\"theta\"]),np.array(ocp_neg[\"OCV\"]),theta)"
   ]
  },
  {
   "cell_type": "code",
   "execution_count": 30,
   "metadata": {},
   "outputs": [
    {
     "data": {
      "text/plain": [
       "Interpolant(-0x6ce2cb43bbffca1a, interpolating_function, children=['0.1'], domains={})"
      ]
     },
     "execution_count": 30,
     "metadata": {},
     "output_type": "execute_result"
    }
   ],
   "source": [
    "graphite_OCP([0.1])"
   ]
  },
  {
   "cell_type": "code",
   "execution_count": 47,
   "metadata": {},
   "outputs": [
    {
     "name": "stdout",
     "output_type": "stream",
     "text": [
      "ing_functio(0.0)\n",
      "ing_functio(0.1)\n",
      "ing_functio(0.2)\n",
      "ing_functio(0.3)\n",
      "ing_functio(0.4)\n",
      "ing_functio(0.5)\n",
      "ing_functio(0.6)\n",
      "ing_functio(0.7)\n",
      "ing_functio(0.8)\n",
      "ing_functio(0.9)\n"
     ]
    }
   ],
   "source": [
    "o = np.array([0, 0.1, 0.3])\n",
    "for t in range(10):\n",
    "    print(graphite_OCP([t/10]))"
   ]
  },
  {
   "cell_type": "code",
   "execution_count": null,
   "metadata": {},
   "outputs": [],
   "source": []
  }
 ],
 "metadata": {
  "kernelspec": {
   "display_name": ".pkg",
   "language": "python",
   "name": "python3"
  },
  "language_info": {
   "codemirror_mode": {
    "name": "ipython",
    "version": 3
   },
   "file_extension": ".py",
   "mimetype": "text/x-python",
   "name": "python",
   "nbconvert_exporter": "python",
   "pygments_lexer": "ipython3",
   "version": "3.9.16"
  },
  "orig_nbformat": 4,
  "vscode": {
   "interpreter": {
    "hash": "82a51de0550917f70c6022eaee7aedd6ef51cc1c76ea945211b55a7cbc8e0f5e"
   }
  }
 },
 "nbformat": 4,
 "nbformat_minor": 2
}
